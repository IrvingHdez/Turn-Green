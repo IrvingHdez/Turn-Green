{
 "cells": [
  {
   "cell_type": "code",
   "execution_count": 6,
   "id": "d3ca8cdb",
   "metadata": {},
   "outputs": [],
   "source": [
    "## Pre-requisites\n",
    "# pip install boto\n",
    "# pip install fsspec\n",
    "# pip install s3fs\n",
    "# pip install psycopg2"
   ]
  },
  {
   "cell_type": "code",
   "execution_count": 30,
   "id": "84e679ea",
   "metadata": {},
   "outputs": [],
   "source": [
    "import os\n",
    "import boto\n",
    "import pandas as pd\n",
    "import psycopg2"
   ]
  },
  {
   "cell_type": "markdown",
   "id": "5d44c69d",
   "metadata": {},
   "source": [
    "## Extract datasets from URL"
   ]
  },
  {
   "cell_type": "markdown",
   "id": "4e9bd413",
   "metadata": {},
   "source": [
    "### Annual CO2 emissions (per capita) vs Renewable Energy per capita"
   ]
  },
  {
   "cell_type": "markdown",
   "id": "72702719",
   "metadata": {},
   "source": [
    "This clean data set is the result of the merge of two files:\n",
    "* 'https://raw.githubusercontent.com/Ricardolpz99/Turn-Green/main/Database/co-emissions-per-capita.csv'\n",
    "* 'https://raw.githubusercontent.com/Ricardolpz99/Turn-Green/main/Database/renewable-share-energy.csv'"
   ]
  },
  {
   "cell_type": "code",
   "execution_count": 24,
   "id": "63367a36",
   "metadata": {},
   "outputs": [
    {
     "data": {
      "text/html": [
       "<div>\n",
       "<style scoped>\n",
       "    .dataframe tbody tr th:only-of-type {\n",
       "        vertical-align: middle;\n",
       "    }\n",
       "\n",
       "    .dataframe tbody tr th {\n",
       "        vertical-align: top;\n",
       "    }\n",
       "\n",
       "    .dataframe thead th {\n",
       "        text-align: right;\n",
       "    }\n",
       "</style>\n",
       "<table border=\"1\" class=\"dataframe\">\n",
       "  <thead>\n",
       "    <tr style=\"text-align: right;\">\n",
       "      <th></th>\n",
       "      <th>Unnamed: 0</th>\n",
       "      <th>Entity</th>\n",
       "      <th>Code</th>\n",
       "      <th>Year</th>\n",
       "      <th>Annual CO2 emissions (per capita)</th>\n",
       "      <th>Renewables (% sub energy)</th>\n",
       "    </tr>\n",
       "  </thead>\n",
       "  <tbody>\n",
       "    <tr>\n",
       "      <th>0</th>\n",
       "      <td>0</td>\n",
       "      <td>Africa</td>\n",
       "      <td>AFR</td>\n",
       "      <td>1965</td>\n",
       "      <td>0.6750</td>\n",
       "      <td>5.526</td>\n",
       "    </tr>\n",
       "    <tr>\n",
       "      <th>1</th>\n",
       "      <td>1</td>\n",
       "      <td>Africa</td>\n",
       "      <td>AFR</td>\n",
       "      <td>1966</td>\n",
       "      <td>0.6814</td>\n",
       "      <td>5.862</td>\n",
       "    </tr>\n",
       "    <tr>\n",
       "      <th>2</th>\n",
       "      <td>2</td>\n",
       "      <td>Africa</td>\n",
       "      <td>AFR</td>\n",
       "      <td>1967</td>\n",
       "      <td>0.7124</td>\n",
       "      <td>6.069</td>\n",
       "    </tr>\n",
       "  </tbody>\n",
       "</table>\n",
       "</div>"
      ],
      "text/plain": [
       "   Unnamed: 0  Entity Code  Year  Annual CO2 emissions (per capita)  \\\n",
       "0           0  Africa  AFR  1965                             0.6750   \n",
       "1           1  Africa  AFR  1966                             0.6814   \n",
       "2           2  Africa  AFR  1967                             0.7124   \n",
       "\n",
       "   Renewables (% sub energy)  \n",
       "0                      5.526  \n",
       "1                      5.862  \n",
       "2                      6.069  "
      ]
     },
     "execution_count": 24,
     "metadata": {},
     "output_type": "execute_result"
    }
   ],
   "source": [
    "url_climate = 'https://raw.githubusercontent.com/Ricardolpz99/Turn-Green/main/Database/Clean/Climate_data_complete_(no_null_values).csv'\n",
    "climate_co2_re_df = pd.read_csv(url_climate)\n",
    "climate_co2_re_df.head(3)"
   ]
  },
  {
   "cell_type": "markdown",
   "id": "8f41cf89",
   "metadata": {},
   "source": [
    "### Annual CO2 emissions (per capita) vs Renewable electricity per capita"
   ]
  },
  {
   "cell_type": "markdown",
   "id": "3154459f",
   "metadata": {},
   "source": [
    "This clean data set is the result of the merge of two files:\n",
    "* 'https://raw.githubusercontent.com/Ricardolpz99/Turn-Green/main/Database/co-emissions-per-capita.csv'\n",
    "* 'https://raw.githubusercontent.com/Ricardolpz99/Turn-Green/main/Database/renewable-electricity-per-capita.csv'"
   ]
  },
  {
   "cell_type": "code",
   "execution_count": 29,
   "id": "de68c948",
   "metadata": {},
   "outputs": [
    {
     "data": {
      "text/html": [
       "<div>\n",
       "<style scoped>\n",
       "    .dataframe tbody tr th:only-of-type {\n",
       "        vertical-align: middle;\n",
       "    }\n",
       "\n",
       "    .dataframe tbody tr th {\n",
       "        vertical-align: top;\n",
       "    }\n",
       "\n",
       "    .dataframe thead th {\n",
       "        text-align: right;\n",
       "    }\n",
       "</style>\n",
       "<table border=\"1\" class=\"dataframe\">\n",
       "  <thead>\n",
       "    <tr style=\"text-align: right;\">\n",
       "      <th></th>\n",
       "      <th>Unnamed: 0</th>\n",
       "      <th>Entity</th>\n",
       "      <th>Code</th>\n",
       "      <th>Year</th>\n",
       "      <th>Annual CO2 emissions (per capita)</th>\n",
       "      <th>Renewable electricity per capita (kWh)</th>\n",
       "    </tr>\n",
       "  </thead>\n",
       "  <tbody>\n",
       "    <tr>\n",
       "      <th>0</th>\n",
       "      <td>0</td>\n",
       "      <td>Afghanistan</td>\n",
       "      <td>AFG</td>\n",
       "      <td>2000</td>\n",
       "      <td>0.0365</td>\n",
       "      <td>14.918</td>\n",
       "    </tr>\n",
       "    <tr>\n",
       "      <th>1</th>\n",
       "      <td>1</td>\n",
       "      <td>Afghanistan</td>\n",
       "      <td>AFG</td>\n",
       "      <td>2001</td>\n",
       "      <td>0.0369</td>\n",
       "      <td>23.141</td>\n",
       "    </tr>\n",
       "    <tr>\n",
       "      <th>2</th>\n",
       "      <td>2</td>\n",
       "      <td>Afghanistan</td>\n",
       "      <td>AFG</td>\n",
       "      <td>2002</td>\n",
       "      <td>0.0465</td>\n",
       "      <td>24.778</td>\n",
       "    </tr>\n",
       "  </tbody>\n",
       "</table>\n",
       "</div>"
      ],
      "text/plain": [
       "   Unnamed: 0       Entity Code  Year  Annual CO2 emissions (per capita)  \\\n",
       "0           0  Afghanistan  AFG  2000                             0.0365   \n",
       "1           1  Afghanistan  AFG  2001                             0.0369   \n",
       "2           2  Afghanistan  AFG  2002                             0.0465   \n",
       "\n",
       "   Renewable electricity per capita (kWh)  \n",
       "0                                  14.918  \n",
       "1                                  23.141  \n",
       "2                                  24.778  "
      ]
     },
     "execution_count": 29,
     "metadata": {},
     "output_type": "execute_result"
    }
   ],
   "source": [
    "url_co2_elect = 'https://raw.githubusercontent.com/Ricardolpz99/Turn-Green/main/Database/Clean/Climate_data_complete_per_capita.csv'\n",
    "climate_co2_elect_df = pd.read_csv(url_co2_elect)\n",
    "climate_co2_elect_df.head(3)"
   ]
  },
  {
   "cell_type": "markdown",
   "id": "8a862b84",
   "metadata": {},
   "source": [
    "### Annual CO2 emissions (per capita) vs Renewable Energy Generation"
   ]
  },
  {
   "cell_type": "markdown",
   "id": "963ae6ce",
   "metadata": {},
   "source": [
    "This clean data set is the result of the merge of two files:\n",
    "* 'https://raw.githubusercontent.com/Ricardolpz99/Turn-Green/main/Database/co-emissions-per-capita.csv'\n",
    "* 'https://raw.githubusercontent.com/Ricardolpz99/Turn-Green/main/Database/renewable-energy-gen.csv'"
   ]
  },
  {
   "cell_type": "code",
   "execution_count": 30,
   "id": "52c1ac5a",
   "metadata": {},
   "outputs": [
    {
     "data": {
      "text/html": [
       "<div>\n",
       "<style scoped>\n",
       "    .dataframe tbody tr th:only-of-type {\n",
       "        vertical-align: middle;\n",
       "    }\n",
       "\n",
       "    .dataframe tbody tr th {\n",
       "        vertical-align: top;\n",
       "    }\n",
       "\n",
       "    .dataframe thead th {\n",
       "        text-align: right;\n",
       "    }\n",
       "</style>\n",
       "<table border=\"1\" class=\"dataframe\">\n",
       "  <thead>\n",
       "    <tr style=\"text-align: right;\">\n",
       "      <th></th>\n",
       "      <th>Unnamed: 0</th>\n",
       "      <th>Entity</th>\n",
       "      <th>Code</th>\n",
       "      <th>Year</th>\n",
       "      <th>Annual CO2 emissions (per capita)</th>\n",
       "      <th>Solar Generation - TWh</th>\n",
       "      <th>Wind Generation - TWh</th>\n",
       "      <th>Hydro Generation - TWh</th>\n",
       "      <th>Geo Biomass Other - TWh</th>\n",
       "    </tr>\n",
       "  </thead>\n",
       "  <tbody>\n",
       "    <tr>\n",
       "      <th>0</th>\n",
       "      <td>35</td>\n",
       "      <td>Africa</td>\n",
       "      <td>AFR</td>\n",
       "      <td>2000</td>\n",
       "      <td>1.0936</td>\n",
       "      <td>0.011941</td>\n",
       "      <td>0.175500</td>\n",
       "      <td>75.245817</td>\n",
       "      <td>2.269063</td>\n",
       "    </tr>\n",
       "    <tr>\n",
       "      <th>1</th>\n",
       "      <td>36</td>\n",
       "      <td>Africa</td>\n",
       "      <td>AFR</td>\n",
       "      <td>2001</td>\n",
       "      <td>1.0645</td>\n",
       "      <td>0.014960</td>\n",
       "      <td>0.415580</td>\n",
       "      <td>80.864115</td>\n",
       "      <td>2.335353</td>\n",
       "    </tr>\n",
       "    <tr>\n",
       "      <th>2</th>\n",
       "      <td>37</td>\n",
       "      <td>Africa</td>\n",
       "      <td>AFR</td>\n",
       "      <td>2002</td>\n",
       "      <td>1.0489</td>\n",
       "      <td>0.017871</td>\n",
       "      <td>0.443584</td>\n",
       "      <td>85.181468</td>\n",
       "      <td>2.286400</td>\n",
       "    </tr>\n",
       "  </tbody>\n",
       "</table>\n",
       "</div>"
      ],
      "text/plain": [
       "   Unnamed: 0  Entity Code  Year  Annual CO2 emissions (per capita)  \\\n",
       "0          35  Africa  AFR  2000                             1.0936   \n",
       "1          36  Africa  AFR  2001                             1.0645   \n",
       "2          37  Africa  AFR  2002                             1.0489   \n",
       "\n",
       "   Solar Generation - TWh  Wind Generation - TWh  Hydro Generation - TWh  \\\n",
       "0                0.011941               0.175500               75.245817   \n",
       "1                0.014960               0.415580               80.864115   \n",
       "2                0.017871               0.443584               85.181468   \n",
       "\n",
       "   Geo Biomass Other - TWh  \n",
       "0                 2.269063  \n",
       "1                 2.335353  \n",
       "2                 2.286400  "
      ]
     },
     "execution_count": 30,
     "metadata": {},
     "output_type": "execute_result"
    }
   ],
   "source": [
    "url_co2_re_gen = 'https://raw.githubusercontent.com/Ricardolpz99/Turn-Green/main/Database/Clean/Climate_data_complete_generated.csv'\n",
    "climate_co2_re_gen_df = pd.read_csv(url_co2_re_gen)\n",
    "climate_co2_re_gen_df.head(3)"
   ]
  },
  {
   "cell_type": "markdown",
   "id": "0952b379",
   "metadata": {},
   "source": [
    "## Load to AWS RDS"
   ]
  },
  {
   "cell_type": "code",
   "execution_count": 27,
   "id": "a4e755d1",
   "metadata": {},
   "outputs": [
    {
     "name": "stdout",
     "output_type": "stream",
     "text": [
      "Enter database password········\n"
     ]
    }
   ],
   "source": [
    "# Configure settings for RDS\n",
    "from getpass import getpass\n",
    "password = getpass('Enter database password')\n",
    "database = \"db-turn-green\"\n",
    "username = \"postgres\"\n",
    "hostname = \"db-turn-green.cp9vtji419xj.us-east-2.rds.amazonaws.com\""
   ]
  },
  {
   "cell_type": "code",
   "execution_count": 28,
   "id": "7a0c7ff7",
   "metadata": {},
   "outputs": [],
   "source": [
    "# Write renewable_share_energy_df to table in RDS\n",
    "from sqlalchemy import create_engine\n",
    "engine = create_engine(\"postgresql://{}:{}@{}:5432/{}\".format(username, password, hostname, database))"
   ]
  },
  {
   "cell_type": "code",
   "execution_count": 33,
   "id": "eb11d3bc",
   "metadata": {},
   "outputs": [],
   "source": [
    "climate_co2_re_df.to_sql('co2_vs_renewable_energy', engine)"
   ]
  },
  {
   "cell_type": "code",
   "execution_count": 34,
   "id": "402ed9fb",
   "metadata": {},
   "outputs": [],
   "source": [
    "climate_co2_elect_df.to_sql('co2_vs_renewable_electricity', engine)"
   ]
  },
  {
   "cell_type": "code",
   "execution_count": 35,
   "id": "22fd2297",
   "metadata": {},
   "outputs": [],
   "source": [
    "climate_co2_re_gen_df.to_sql('co2_vs_renewable_energy_generation', engine)"
   ]
  }
 ],
 "metadata": {
  "kernelspec": {
   "display_name": "PythonDataNotebook",
   "language": "python",
   "name": "pythondatanotebook"
  },
  "language_info": {
   "codemirror_mode": {
    "name": "ipython",
    "version": 3
   },
   "file_extension": ".py",
   "mimetype": "text/x-python",
   "name": "python",
   "nbconvert_exporter": "python",
   "pygments_lexer": "ipython3",
   "version": "3.7.11"
  }
 },
 "nbformat": 4,
 "nbformat_minor": 5
}
