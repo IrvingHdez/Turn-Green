{
 "cells": [
  {
   "cell_type": "code",
   "execution_count": 6,
   "id": "d3ca8cdb",
   "metadata": {},
   "outputs": [],
   "source": [
    "## Pre-requisites\n",
    "# pip install boto\n",
    "# pip install fsspec\n",
    "# pip install s3fs\n",
    "# pip install psycopg2"
   ]
  },
  {
   "cell_type": "code",
   "execution_count": 30,
   "id": "84e679ea",
   "metadata": {},
   "outputs": [],
   "source": [
    "import os\n",
    "import boto\n",
    "import pandas as pd\n",
    "import psycopg2"
   ]
  },
  {
   "cell_type": "markdown",
   "id": "4e9bd413",
   "metadata": {},
   "source": [
    "## Extract data from URL"
   ]
  },
  {
   "cell_type": "code",
   "execution_count": 55,
   "id": "63367a36",
   "metadata": {},
   "outputs": [],
   "source": [
    "url_co2 = 'https://raw.githubusercontent.com/Ricardolpz99/Turn-Green/main/Database/co-emissions-per-capita.csv'\n",
    "c02_emissions_df = pd.read_csv(url_co2, index_col=0, sep=',')"
   ]
  },
  {
   "cell_type": "code",
   "execution_count": 56,
   "id": "e91f7bea",
   "metadata": {},
   "outputs": [
    {
     "data": {
      "text/html": [
       "<div>\n",
       "<style scoped>\n",
       "    .dataframe tbody tr th:only-of-type {\n",
       "        vertical-align: middle;\n",
       "    }\n",
       "\n",
       "    .dataframe tbody tr th {\n",
       "        vertical-align: top;\n",
       "    }\n",
       "\n",
       "    .dataframe thead th {\n",
       "        text-align: right;\n",
       "    }\n",
       "</style>\n",
       "<table border=\"1\" class=\"dataframe\">\n",
       "  <thead>\n",
       "    <tr style=\"text-align: right;\">\n",
       "      <th></th>\n",
       "      <th>Code</th>\n",
       "      <th>Year</th>\n",
       "      <th>Annual CO2 emissions (per capita)</th>\n",
       "    </tr>\n",
       "    <tr>\n",
       "      <th>Entity</th>\n",
       "      <th></th>\n",
       "      <th></th>\n",
       "      <th></th>\n",
       "    </tr>\n",
       "  </thead>\n",
       "  <tbody>\n",
       "    <tr>\n",
       "      <th>Afghanistan</th>\n",
       "      <td>AFG</td>\n",
       "      <td>1949</td>\n",
       "      <td>0.0019</td>\n",
       "    </tr>\n",
       "    <tr>\n",
       "      <th>Afghanistan</th>\n",
       "      <td>AFG</td>\n",
       "      <td>1950</td>\n",
       "      <td>0.0109</td>\n",
       "    </tr>\n",
       "    <tr>\n",
       "      <th>Afghanistan</th>\n",
       "      <td>AFG</td>\n",
       "      <td>1951</td>\n",
       "      <td>0.0117</td>\n",
       "    </tr>\n",
       "    <tr>\n",
       "      <th>Afghanistan</th>\n",
       "      <td>AFG</td>\n",
       "      <td>1952</td>\n",
       "      <td>0.0115</td>\n",
       "    </tr>\n",
       "    <tr>\n",
       "      <th>Afghanistan</th>\n",
       "      <td>AFG</td>\n",
       "      <td>1953</td>\n",
       "      <td>0.0132</td>\n",
       "    </tr>\n",
       "  </tbody>\n",
       "</table>\n",
       "</div>"
      ],
      "text/plain": [
       "            Code  Year  Annual CO2 emissions (per capita)\n",
       "Entity                                                   \n",
       "Afghanistan  AFG  1949                             0.0019\n",
       "Afghanistan  AFG  1950                             0.0109\n",
       "Afghanistan  AFG  1951                             0.0117\n",
       "Afghanistan  AFG  1952                             0.0115\n",
       "Afghanistan  AFG  1953                             0.0132"
      ]
     },
     "execution_count": 56,
     "metadata": {},
     "output_type": "execute_result"
    }
   ],
   "source": [
    "c02_emissions_df.head(5)"
   ]
  },
  {
   "cell_type": "code",
   "execution_count": 58,
   "id": "5a008fd1",
   "metadata": {},
   "outputs": [],
   "source": [
    "#renewable_energy_df = pd.read_csv('https://project-team6-bucket.s3.us-east-2.amazonaws.com/renewable-share-energy.csv')\n",
    "url_energy = 'https://raw.githubusercontent.com/Ricardolpz99/Turn-Green/main/Database/renewable-share-energy.csv'\n",
    "renewable_energy_df = pd.read_csv(url_energy, index_col=0, sep=',')"
   ]
  },
  {
   "cell_type": "code",
   "execution_count": 59,
   "id": "17480362",
   "metadata": {},
   "outputs": [
    {
     "data": {
      "text/html": [
       "<div>\n",
       "<style scoped>\n",
       "    .dataframe tbody tr th:only-of-type {\n",
       "        vertical-align: middle;\n",
       "    }\n",
       "\n",
       "    .dataframe tbody tr th {\n",
       "        vertical-align: top;\n",
       "    }\n",
       "\n",
       "    .dataframe thead th {\n",
       "        text-align: right;\n",
       "    }\n",
       "</style>\n",
       "<table border=\"1\" class=\"dataframe\">\n",
       "  <thead>\n",
       "    <tr style=\"text-align: right;\">\n",
       "      <th></th>\n",
       "      <th>Code</th>\n",
       "      <th>Year</th>\n",
       "      <th>Renewables (% sub energy)</th>\n",
       "    </tr>\n",
       "    <tr>\n",
       "      <th>Entity</th>\n",
       "      <th></th>\n",
       "      <th></th>\n",
       "      <th></th>\n",
       "    </tr>\n",
       "  </thead>\n",
       "  <tbody>\n",
       "    <tr>\n",
       "      <th>Africa</th>\n",
       "      <td>NaN</td>\n",
       "      <td>1965</td>\n",
       "      <td>5.526</td>\n",
       "    </tr>\n",
       "    <tr>\n",
       "      <th>Africa</th>\n",
       "      <td>NaN</td>\n",
       "      <td>1966</td>\n",
       "      <td>5.862</td>\n",
       "    </tr>\n",
       "    <tr>\n",
       "      <th>Africa</th>\n",
       "      <td>NaN</td>\n",
       "      <td>1967</td>\n",
       "      <td>6.069</td>\n",
       "    </tr>\n",
       "    <tr>\n",
       "      <th>Africa</th>\n",
       "      <td>NaN</td>\n",
       "      <td>1968</td>\n",
       "      <td>6.730</td>\n",
       "    </tr>\n",
       "    <tr>\n",
       "      <th>Africa</th>\n",
       "      <td>NaN</td>\n",
       "      <td>1969</td>\n",
       "      <td>7.669</td>\n",
       "    </tr>\n",
       "  </tbody>\n",
       "</table>\n",
       "</div>"
      ],
      "text/plain": [
       "       Code  Year  Renewables (% sub energy)\n",
       "Entity                                      \n",
       "Africa  NaN  1965                      5.526\n",
       "Africa  NaN  1966                      5.862\n",
       "Africa  NaN  1967                      6.069\n",
       "Africa  NaN  1968                      6.730\n",
       "Africa  NaN  1969                      7.669"
      ]
     },
     "execution_count": 59,
     "metadata": {},
     "output_type": "execute_result"
    }
   ],
   "source": [
    "renewable_energy_df.head(5)"
   ]
  },
  {
   "cell_type": "markdown",
   "id": "0952b379",
   "metadata": {},
   "source": [
    "## Connect to SqlAlchemy and write each DataFrame to its table."
   ]
  },
  {
   "cell_type": "code",
   "execution_count": 25,
   "id": "a4e755d1",
   "metadata": {},
   "outputs": [
    {
     "name": "stdout",
     "output_type": "stream",
     "text": [
      "Enter database password········\n"
     ]
    }
   ],
   "source": [
    "# Configure settings for RDS\n",
    "from getpass import getpass\n",
    "password = getpass('Enter database password')\n",
    "database = \"db-turn-green\"\n",
    "username = \"postgres\"\n",
    "hostname = \"db-turn-green.cp9vtji419xj.us-east-2.rds.amazonaws.com\""
   ]
  },
  {
   "cell_type": "code",
   "execution_count": 31,
   "id": "7a0c7ff7",
   "metadata": {},
   "outputs": [],
   "source": [
    "# Write renewable_share_energy_df to table in RDS\n",
    "from sqlalchemy import create_engine\n",
    "engine = create_engine(\"postgresql://{}:{}@{}:5432/{}\".format(username, password, hostname, database))"
   ]
  },
  {
   "cell_type": "code",
   "execution_count": 42,
   "id": "eb11d3bc",
   "metadata": {},
   "outputs": [],
   "source": [
    "renewable_energy_df.to_sql('renewable_share_energy', engine)"
   ]
  },
  {
   "cell_type": "code",
   "execution_count": 38,
   "id": "402ed9fb",
   "metadata": {},
   "outputs": [],
   "source": [
    "c02_emissions_df.to_sql('co2_emissions_per_capita', engine)"
   ]
  }
 ],
 "metadata": {
  "kernelspec": {
   "display_name": "PythonDataNotebook",
   "language": "python",
   "name": "pythondatanotebook"
  },
  "language_info": {
   "codemirror_mode": {
    "name": "ipython",
    "version": 3
   },
   "file_extension": ".py",
   "mimetype": "text/x-python",
   "name": "python",
   "nbconvert_exporter": "python",
   "pygments_lexer": "ipython3",
   "version": "3.7.11"
  }
 },
 "nbformat": 4,
 "nbformat_minor": 5
}
